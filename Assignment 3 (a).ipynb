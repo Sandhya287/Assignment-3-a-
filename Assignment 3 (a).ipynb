{
 "cells": [
  {
   "cell_type": "code",
   "execution_count": null,
   "id": "1079bdd8-20b2-460f-8c29-fc5d9a209385",
   "metadata": {},
   "outputs": [],
   "source": [
    "#Q1. Which keyword is used to create a function? Create a function to return a list of odd numbers in the\n",
    "range of 1 to 25."
   ]
  },
  {
   "cell_type": "code",
   "execution_count": null,
   "id": "4d1a6425-84c6-4ce6-80ee-71c58787ca4f",
   "metadata": {},
   "outputs": [],
   "source": [
    "In Python, the keyword used to create a function is def."
   ]
  },
  {
   "cell_type": "code",
   "execution_count": 1,
   "id": "0a6dda41-5450-4078-b6e3-e61e3fc6e541",
   "metadata": {},
   "outputs": [
    {
     "name": "stdout",
     "output_type": "stream",
     "text": [
      "[1, 3, 5, 7, 9, 11, 13, 15, 17, 19, 21, 23, 25]\n"
     ]
    }
   ],
   "source": [
    "def get_odd_numbers():\n",
    "    odd_numbers = [num for num in range(1, 26) if num % 2 != 0]\n",
    "    return odd_numbers\n",
    "\n",
    "# Call the function and print the result\n",
    "result = get_odd_numbers()\n",
    "print(result)\n"
   ]
  },
  {
   "cell_type": "code",
   "execution_count": null,
   "id": "ff2056c7-d30c-4c5f-8855-e17116d0e402",
   "metadata": {},
   "outputs": [],
   "source": [
    "#Q2. Why *args and **kwargs is used in some functions? Create a function each for *args and **kwargs\n",
    "to demonstrate their use.\n",
    "\n"
   ]
  },
  {
   "cell_type": "code",
   "execution_count": null,
   "id": "110356f0-251c-4bcb-a7a7-fef85beb511f",
   "metadata": {},
   "outputs": [],
   "source": [
    "*args and **kwargs are used in Python functions to allow for a variable number of arguments.\n",
    "\n",
    "1. *args (Arbitrary Arguments):\n",
    "\n",
    "*args is used to pass a variable number of non-keyword (positional) arguments to a function.\n",
    "The *args syntax allows a function to accept any number of positional arguments, and these arguments are passed to the function as a tuple."
   ]
  },
  {
   "cell_type": "code",
   "execution_count": 2,
   "id": "df48024c-9b69-4838-8973-fa9d9d48b99f",
   "metadata": {},
   "outputs": [
    {
     "name": "stdout",
     "output_type": "stream",
     "text": [
      "1\n",
      "2\n",
      "3\n",
      "a\n",
      "b\n",
      "c\n",
      "d\n"
     ]
    }
   ],
   "source": [
    "def print_args(*args):\n",
    "    for arg in args:\n",
    "        print(arg)\n",
    "\n",
    "# Call the function with different numbers of arguments\n",
    "print_args(1, 2, 3)\n",
    "print_args('a', 'b', 'c', 'd')\n"
   ]
  },
  {
   "cell_type": "code",
   "execution_count": null,
   "id": "8fcfbb65-bdc4-4f1f-a288-f2297e39b10c",
   "metadata": {},
   "outputs": [],
   "source": [
    "2. **kwargs (Arbitrary Keyword Arguments):\n",
    "\n",
    "**kwargs is used to pass a variable number of keyword arguments to a function.\n",
    "The **kwargs syntax allows a function to accept any number of keyword arguments, and these arguments are passed to the function as a dictionary."
   ]
  },
  {
   "cell_type": "code",
   "execution_count": 3,
   "id": "9e1773be-c160-44d0-9449-9ba85c6bed98",
   "metadata": {},
   "outputs": [
    {
     "name": "stdout",
     "output_type": "stream",
     "text": [
      "name: John\n",
      "age: 25\n",
      "city: New York\n"
     ]
    }
   ],
   "source": [
    "def print_kwargs(**kwargs):\n",
    "    for key, value in kwargs.items():\n",
    "        print(f\"{key}: {value}\")\n",
    "\n",
    "# Call the function with different keyword arguments\n",
    "print_kwargs(name='John', age=25, city='New York')\n"
   ]
  },
  {
   "cell_type": "code",
   "execution_count": null,
   "id": "ea140fdd-66b3-4688-a876-89e9d148b607",
   "metadata": {},
   "outputs": [],
   "source": [
    "#Q3. What is an iterator in python? Name the method used to initialise the iterator object and the method\n",
    "used for iteration. Use these methods to print the first five elements of the given list [2, 4, 6, 8, 10, 12, 14,\n",
    "16, 18, 20]."
   ]
  },
  {
   "cell_type": "code",
   "execution_count": null,
   "id": "e8d4b10e-cbba-4140-807f-69cef1e818b0",
   "metadata": {},
   "outputs": [],
   "source": [
    "In Python, an iterator is an object that allows sequential access to elements in a container, such as a list, tuple, or other iterable objects. Iterators implement two main methods: __iter__() for initialization and __next__() for iteration.\n",
    "\n",
    "To initialize an iterator object, the iter() method is used. To retrieve the next element during iteration, the next() method is used."
   ]
  },
  {
   "cell_type": "code",
   "execution_count": 4,
   "id": "1da3b283-e522-40bb-8eee-f25768937bc3",
   "metadata": {},
   "outputs": [
    {
     "name": "stdout",
     "output_type": "stream",
     "text": [
      "2\n",
      "4\n",
      "6\n",
      "8\n",
      "10\n"
     ]
    }
   ],
   "source": [
    "# Given list\n",
    "my_list = [2, 4, 6, 8, 10, 12, 14, 16, 18, 20]\n",
    "\n",
    "# Initialize the iterator\n",
    "my_iterator = iter(my_list)\n",
    "\n",
    "# Iterate and print the first five elements\n",
    "for _ in range(5):\n",
    "    element = next(my_iterator)\n",
    "    print(element)\n"
   ]
  },
  {
   "cell_type": "code",
   "execution_count": null,
   "id": "a6725563-918e-49e7-bdbc-48a17206e32d",
   "metadata": {},
   "outputs": [],
   "source": [
    "#Q4. What is a generator function in python? Why yield keyword is used? Give an example of a generator\n",
    "function."
   ]
  },
  {
   "cell_type": "code",
   "execution_count": null,
   "id": "d6aa0d25-72c6-41ac-8c67-e7b390b1f693",
   "metadata": {},
   "outputs": [],
   "source": [
    "A generator function in Python is a special type of function that allows you to iterate over a potentially large sequence of data without the need to create and store the entire sequence in memory. It uses the yield keyword to produce a series of values over multiple calls.\n",
    "\n",
    "\n",
    "The yield keyword is used in a generator function to temporarily suspend the function's state and provide a value to the caller. When the generator function is called again, it resumes execution from where it was suspended."
   ]
  },
  {
   "cell_type": "code",
   "execution_count": 5,
   "id": "2e8df4a7-5fda-4cc7-9e55-04267ff0a65d",
   "metadata": {},
   "outputs": [
    {
     "name": "stdout",
     "output_type": "stream",
     "text": [
      "0\n",
      "1\n",
      "4\n",
      "9\n",
      "16\n"
     ]
    }
   ],
   "source": [
    "def square_generator(n):\n",
    "    for i in range(n):\n",
    "        yield i**2\n",
    "\n",
    "# Using the generator function\n",
    "my_generator = square_generator(5)\n",
    "\n",
    "# Iterating over the generator\n",
    "for square in my_generator:\n",
    "    print(square)\n"
   ]
  },
  {
   "cell_type": "code",
   "execution_count": null,
   "id": "85df9ae5-2994-41a2-b49e-0fd85bca6ad7",
   "metadata": {},
   "outputs": [],
   "source": [
    "#Q5. Create a generator function for prime numbers less than 1000. Use the next() method to print the\n",
    "first 20 prime numbers."
   ]
  },
  {
   "cell_type": "code",
   "execution_count": 6,
   "id": "9045b948-3d8c-4930-9770-5a50d3c2cb27",
   "metadata": {},
   "outputs": [
    {
     "name": "stdout",
     "output_type": "stream",
     "text": [
      "2\n",
      "3\n",
      "5\n",
      "7\n",
      "11\n",
      "13\n",
      "17\n",
      "19\n",
      "23\n",
      "29\n",
      "31\n",
      "37\n",
      "41\n",
      "43\n",
      "47\n",
      "53\n",
      "59\n",
      "61\n",
      "67\n",
      "71\n"
     ]
    }
   ],
   "source": [
    "def generate_primes():\n",
    "    primes = []\n",
    "    num = 2\n",
    "    while True:\n",
    "        is_prime = all(num % p != 0 for p in primes)\n",
    "        if is_prime:\n",
    "            yield num\n",
    "            primes.append(num)\n",
    "        num += 1\n",
    "\n",
    "# Create the prime number generator\n",
    "prime_generator = generate_primes()\n",
    "\n",
    "# Print the first 20 prime numbers using next()\n",
    "for _ in range(20):\n",
    "    prime = next(prime_generator)\n",
    "    print(prime)\n"
   ]
  },
  {
   "cell_type": "code",
   "execution_count": null,
   "id": "d07b8e2b-7378-43ed-a31e-6918bd759eb2",
   "metadata": {},
   "outputs": [],
   "source": [
    "#Q6. Write a python program to print the first 10 Fibonacci numbers using a while loop.\n",
    "\n"
   ]
  },
  {
   "cell_type": "code",
   "execution_count": 7,
   "id": "1ca67e93-8c86-46c0-a09d-527c92bb122f",
   "metadata": {},
   "outputs": [
    {
     "name": "stdout",
     "output_type": "stream",
     "text": [
      "0\n",
      "1\n",
      "1\n",
      "2\n",
      "3\n",
      "5\n",
      "8\n",
      "13\n",
      "21\n",
      "34\n"
     ]
    }
   ],
   "source": [
    "# Function to generate Fibonacci numbers\n",
    "def generate_fibonacci(n):\n",
    "    fib_numbers = []\n",
    "    a, b = 0, 1\n",
    "    while len(fib_numbers) < n:\n",
    "        fib_numbers.append(a)\n",
    "        a, b = b, a + b\n",
    "    return fib_numbers\n",
    "\n",
    "# Print the first 10 Fibonacci numbers\n",
    "fibonacci_numbers = generate_fibonacci(10)\n",
    "for num in fibonacci_numbers:\n",
    "    print(num)\n"
   ]
  },
  {
   "cell_type": "code",
   "execution_count": null,
   "id": "5ea93570-3ef2-4b09-ab46-197d9e3c43b9",
   "metadata": {},
   "outputs": [],
   "source": [
    "#Q7. Write a List Comprehension to iterate through the given string: ‘pwskills’.\n",
    "Expected output: ['p', 'w', 's', 'k', 'i', 'l', 'l', 's']\n",
    "\n"
   ]
  },
  {
   "cell_type": "code",
   "execution_count": null,
   "id": "1514e6a3-1e4e-4046-ac19-0d0543d43d7c",
   "metadata": {},
   "outputs": [],
   "source": [
    "input_string = 'pwskills'\n",
    "\n",
    "# List comprehension to iterate through the string\n",
    "result_list = [char for char in input_string]\n",
    "\n",
    "# Output\n",
    "print(result_list)\n"
   ]
  },
  {
   "cell_type": "code",
   "execution_count": null,
   "id": "7ee2f4b6-a85b-4655-943b-5454b9105b4b",
   "metadata": {},
   "outputs": [],
   "source": [
    "#Q8. Write a python program to check whether a given number is Palindrome or not using a while loop."
   ]
  },
  {
   "cell_type": "code",
   "execution_count": null,
   "id": "8310b274-18f7-40f7-bd01-ada14b4b2119",
   "metadata": {},
   "outputs": [],
   "source": [
    "def is_palindrome(number):\n",
    "    original_number = number\n",
    "    reversed_number = 0\n",
    "\n",
    "    while number > 0:\n",
    "        digit = number % 10\n",
    "        reversed_number = reversed_number * 10 + digit\n",
    "        number = number // 10\n",
    "\n",
    "    return original_number == reversed_number\n",
    "\n",
    "# Input a number from the user\n",
    "num = int(input(\"Enter a number: \"))\n",
    "\n",
    "# Check if it is a palindrome\n",
    "if is_palindrome(num):\n",
    "    print(f\"{num} is a palindrome.\")\n",
    "else:\n",
    "    print(f\"{num} is not a palindrome.\")\n"
   ]
  },
  {
   "cell_type": "code",
   "execution_count": null,
   "id": "de66eef2-c710-48af-937b-706546975088",
   "metadata": {},
   "outputs": [],
   "source": [
    "#Q9. Write a code to print odd numbers from 1 to 100 using list comprehension.\n",
    "Note: Use a list comprehension to create a list from 1 to 100 and use another List comprehension to filter\n",
    "out odd numbers.\n",
    "\n"
   ]
  },
  {
   "cell_type": "code",
   "execution_count": null,
   "id": "d058f3b2-5e27-463e-8bc3-a11256e1479c",
   "metadata": {},
   "outputs": [],
   "source": [
    "# List comprehension to create a list from 1 to 100\n",
    "numbers = list(range(1, 101))\n",
    "\n",
    "# List comprehension to filter out odd numbers\n",
    "odd_numbers = [num for num in numbers if num % 2 != 0]\n",
    "\n",
    "# Output\n",
    "print(odd_numbers)\n"
   ]
  }
 ],
 "metadata": {
  "kernelspec": {
   "display_name": "Python 3 (ipykernel)",
   "language": "python",
   "name": "python3"
  },
  "language_info": {
   "codemirror_mode": {
    "name": "ipython",
    "version": 3
   },
   "file_extension": ".py",
   "mimetype": "text/x-python",
   "name": "python",
   "nbconvert_exporter": "python",
   "pygments_lexer": "ipython3",
   "version": "3.10.8"
  }
 },
 "nbformat": 4,
 "nbformat_minor": 5
}
